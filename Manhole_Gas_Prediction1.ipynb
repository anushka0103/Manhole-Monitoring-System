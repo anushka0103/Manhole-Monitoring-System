{
  "cells": [
    {
      "cell_type": "code",
      "execution_count": null,
      "metadata": {
        "id": "G3UZpe4HJDLU"
      },
      "outputs": [],
      "source": [
        "import pandas as pd\n",
        "import numpy as np"
      ]
    },
    {
      "cell_type": "code",
      "execution_count": null,
      "metadata": {
        "id": "x4mIQEUcJDL0"
      },
      "outputs": [],
      "source": [
        "import random\n",
        "import csv\n",
        "from datetime import datetime, timedelta"
      ]
    },
    {
      "cell_type": "code",
      "execution_count": null,
      "metadata": {
        "id": "1G19pUY5JDL2"
      },
      "outputs": [],
      "source": [
        "df = pd.read_csv('manhole final.csv')"
      ]
    },
    {
      "cell_type": "code",
      "execution_count": null,
      "metadata": {
        "id": "AfDAFFFGJDL4"
      },
      "outputs": [],
      "source": [
        "df=df.drop('Dates', axis=1)"
      ]
    },
    {
      "cell_type": "code",
      "execution_count": null,
      "metadata": {
        "id": "bUk0oHjjJDL5"
      },
      "outputs": [],
      "source": [
        "X = df.drop('Methane Alert', axis=1)\n",
        "y_methane = df['Methane Alert']\n",
        "y_co2 = df['CO2 Alert']"
      ]
    },
    {
      "cell_type": "code",
      "execution_count": null,
      "metadata": {
        "id": "ZIS2SnOZJDL7"
      },
      "outputs": [],
      "source": [
        "X = X.drop('CO2 Alert', axis=1)"
      ]
    },
    {
      "cell_type": "code",
      "execution_count": null,
      "metadata": {
        "id": "yxWE1NpIJDL9"
      },
      "outputs": [],
      "source": [
        "X = X.drop('CO2 (ppm)', axis=1)"
      ]
    },
    {
      "cell_type": "code",
      "execution_count": null,
      "metadata": {
        "id": "3lW8kAVNJDL_"
      },
      "outputs": [],
      "source": [
        "X = X.drop('mq2', axis=1)"
      ]
    },
    {
      "cell_type": "code",
      "execution_count": null,
      "metadata": {
        "id": "5Q8pg_gPJDMB",
        "outputId": "0fe2ce6d-eec3-424f-ff36-c1f5e524b5a4"
      },
      "outputs": [
        {
          "data": {
            "text/html": [
              "<div>\n",
              "<style scoped>\n",
              "    .dataframe tbody tr th:only-of-type {\n",
              "        vertical-align: middle;\n",
              "    }\n",
              "\n",
              "    .dataframe tbody tr th {\n",
              "        vertical-align: top;\n",
              "    }\n",
              "\n",
              "    .dataframe thead th {\n",
              "        text-align: right;\n",
              "    }\n",
              "</style>\n",
              "<table border=\"1\" class=\"dataframe\">\n",
              "  <thead>\n",
              "    <tr style=\"text-align: right;\">\n",
              "      <th></th>\n",
              "      <th>mq2</th>\n",
              "      <th>Time</th>\n",
              "      <th>Water Level</th>\n",
              "      <th>Methane (ppm)</th>\n",
              "      <th>CO2 (ppm)</th>\n",
              "    </tr>\n",
              "  </thead>\n",
              "  <tbody>\n",
              "    <tr>\n",
              "      <td>0</td>\n",
              "      <td>674</td>\n",
              "      <td>00:00:00</td>\n",
              "      <td>18.0</td>\n",
              "      <td>960.20</td>\n",
              "      <td>2117.10</td>\n",
              "    </tr>\n",
              "    <tr>\n",
              "      <td>1</td>\n",
              "      <td>646</td>\n",
              "      <td>00:30:00</td>\n",
              "      <td>45.3</td>\n",
              "      <td>219.93</td>\n",
              "      <td>911.19</td>\n",
              "    </tr>\n",
              "    <tr>\n",
              "      <td>2</td>\n",
              "      <td>590</td>\n",
              "      <td>01:00:00</td>\n",
              "      <td>73.9</td>\n",
              "      <td>268.37</td>\n",
              "      <td>993.75</td>\n",
              "    </tr>\n",
              "    <tr>\n",
              "      <td>3</td>\n",
              "      <td>627</td>\n",
              "      <td>01:30:00</td>\n",
              "      <td>14.5</td>\n",
              "      <td>426.10</td>\n",
              "      <td>1421.28</td>\n",
              "    </tr>\n",
              "    <tr>\n",
              "      <td>4</td>\n",
              "      <td>896</td>\n",
              "      <td>02:00:00</td>\n",
              "      <td>35.2</td>\n",
              "      <td>1183.17</td>\n",
              "      <td>4334.22</td>\n",
              "    </tr>\n",
              "    <tr>\n",
              "      <td>...</td>\n",
              "      <td>...</td>\n",
              "      <td>...</td>\n",
              "      <td>...</td>\n",
              "      <td>...</td>\n",
              "      <td>...</td>\n",
              "    </tr>\n",
              "    <tr>\n",
              "      <td>1839</td>\n",
              "      <td>826</td>\n",
              "      <td>07:30:00</td>\n",
              "      <td>92.5</td>\n",
              "      <td>3997.20</td>\n",
              "      <td>4158.94</td>\n",
              "    </tr>\n",
              "    <tr>\n",
              "      <td>1840</td>\n",
              "      <td>821</td>\n",
              "      <td>08:00:00</td>\n",
              "      <td>27.5</td>\n",
              "      <td>4073.88</td>\n",
              "      <td>3887.42</td>\n",
              "    </tr>\n",
              "    <tr>\n",
              "      <td>1841</td>\n",
              "      <td>832</td>\n",
              "      <td>08:30:00</td>\n",
              "      <td>79.6</td>\n",
              "      <td>6545.17</td>\n",
              "      <td>3455.47</td>\n",
              "    </tr>\n",
              "    <tr>\n",
              "      <td>1842</td>\n",
              "      <td>840</td>\n",
              "      <td>09:00:00</td>\n",
              "      <td>91.6</td>\n",
              "      <td>3987.65</td>\n",
              "      <td>6094.62</td>\n",
              "    </tr>\n",
              "    <tr>\n",
              "      <td>1843</td>\n",
              "      <td>840</td>\n",
              "      <td>09:30:00</td>\n",
              "      <td>29.7</td>\n",
              "      <td>2569.91</td>\n",
              "      <td>5074.99</td>\n",
              "    </tr>\n",
              "  </tbody>\n",
              "</table>\n",
              "<p>1844 rows × 5 columns</p>\n",
              "</div>"
            ],
            "text/plain": [
              "      mq2      Time  Water Level  Methane (ppm)  CO2 (ppm)\n",
              "0     674  00:00:00         18.0         960.20    2117.10\n",
              "1     646  00:30:00         45.3         219.93     911.19\n",
              "2     590  01:00:00         73.9         268.37     993.75\n",
              "3     627  01:30:00         14.5         426.10    1421.28\n",
              "4     896  02:00:00         35.2        1183.17    4334.22\n",
              "...   ...       ...          ...            ...        ...\n",
              "1839  826  07:30:00         92.5        3997.20    4158.94\n",
              "1840  821  08:00:00         27.5        4073.88    3887.42\n",
              "1841  832  08:30:00         79.6        6545.17    3455.47\n",
              "1842  840  09:00:00         91.6        3987.65    6094.62\n",
              "1843  840  09:30:00         29.7        2569.91    5074.99\n",
              "\n",
              "[1844 rows x 5 columns]"
            ]
          },
          "execution_count": 72,
          "metadata": {},
          "output_type": "execute_result"
        }
      ],
      "source": [
        "X"
      ]
    },
    {
      "cell_type": "code",
      "execution_count": null,
      "metadata": {
        "id": "4W2GcJdZJDMF"
      },
      "outputs": [],
      "source": [
        "X_train, X_test, y_train, y_test = train_test_split(X, y_methane, test_size=0.2, random_state=42)"
      ]
    },
    {
      "cell_type": "code",
      "execution_count": null,
      "metadata": {
        "id": "4B88EWxIJDMG",
        "outputId": "1ea9af81-1d79-4597-81a4-a11ef5f80530"
      },
      "outputs": [
        {
          "name": "stderr",
          "output_type": "stream",
          "text": [
            "C:\\Users\\MRUNAL\\Anaconda3\\lib\\site-packages\\sklearn\\ensemble\\forest.py:245: FutureWarning: The default value of n_estimators will change from 10 in version 0.20 to 100 in 0.22.\n",
            "  \"10 in version 0.20 to 100 in 0.22.\", FutureWarning)\n"
          ]
        }
      ],
      "source": [
        "from sklearn.ensemble import RandomForestClassifier\n",
        "\n",
        "rclassifier = RandomForestClassifier(criterion='entropy', random_state=0)\n",
        "rclassifier.fit(X_train._get_numeric_data(), y_train)\n",
        "\n",
        "dt_y_pred= rclassifier.predict(X_test._get_numeric_data())\n",
        "\n",
        "from sklearn.metrics import accuracy_score,precision_score,recall_score\n",
        "scor1e=accuracy_score(y_test,dt_y_pred)\n"
      ]
    },
    {
      "cell_type": "code",
      "execution_count": null,
      "metadata": {
        "id": "iiOF3a8VJDMH",
        "outputId": "f3344789-da68-459a-f656-7c0df70d0505"
      },
      "outputs": [
        {
          "data": {
            "text/plain": [
              "1.0"
            ]
          },
          "execution_count": 75,
          "metadata": {},
          "output_type": "execute_result"
        }
      ],
      "source": [
        "scor1e"
      ]
    },
    {
      "cell_type": "code",
      "execution_count": null,
      "metadata": {
        "id": "f_fVrul2JDMI"
      },
      "outputs": [],
      "source": [
        "from sklearn.tree import DecisionTreeClassifier\n",
        "classifier = DecisionTreeClassifier(criterion='entropy', random_state=0)\n",
        "classifier.fit(X_train._get_numeric_data(), y_train)\n",
        "\n",
        "dt_y_pred= classifier.predict(X_test._get_numeric_data())"
      ]
    },
    {
      "cell_type": "code",
      "execution_count": null,
      "metadata": {
        "id": "hC7fO4dIJDMJ",
        "outputId": "4d1427a6-c522-449e-d6c6-74a122c9dda4"
      },
      "outputs": [
        {
          "data": {
            "text/plain": [
              "1.0"
            ]
          },
          "execution_count": 69,
          "metadata": {},
          "output_type": "execute_result"
        }
      ],
      "source": [
        "score=accuracy_score(y_test,dt_y_pred)\n",
        "score"
      ]
    },
    {
      "cell_type": "code",
      "execution_count": null,
      "metadata": {
        "id": "gl0xs83sJDMK",
        "outputId": "dea91878-356b-4b45-f7e2-6502cab72c21"
      },
      "outputs": [
        {
          "name": "stdout",
          "output_type": "stream",
          "text": [
            "Requirement already satisfied: scikit-learn in c:\\users\\mrunal\\anaconda3\\lib\\site-packages (0.21.3)\n",
            "Collecting xgboost\n",
            "  Downloading https://files.pythonhosted.org/packages/24/14/d9ecb9fa86727f51bfb35f1c2b0428ebc6cd5ffde24c5e2dc583d3575a6f/xgboost-1.6.2-py3-none-win_amd64.whl (125.4MB)\n",
            "Requirement already satisfied: joblib>=0.11 in c:\\users\\mrunal\\anaconda3\\lib\\site-packages (from scikit-learn) (0.13.2)\n",
            "Requirement already satisfied: numpy>=1.11.0 in c:\\users\\mrunal\\anaconda3\\lib\\site-packages (from scikit-learn) (1.16.5)\n",
            "Requirement already satisfied: scipy>=0.17.0 in c:\\users\\mrunal\\anaconda3\\lib\\site-packages (from scikit-learn) (1.3.1)\n",
            "Installing collected packages: xgboost\n",
            "Successfully installed xgboost-1.6.2\n",
            "Note: you may need to restart the kernel to use updated packages.\n"
          ]
        }
      ],
      "source": [
        "pip install scikit-learn xgboost"
      ]
    },
    {
      "cell_type": "code",
      "execution_count": null,
      "metadata": {
        "id": "M-vayQ8EJDML"
      },
      "outputs": [],
      "source": [
        "import xgboost as xgb\n",
        "from sklearn.model_selection import train_test_split\n",
        "from sklearn.metrics import accuracy_score, confusion_matrix\n",
        "from sklearn.metrics import mean_squared_error"
      ]
    },
    {
      "cell_type": "code",
      "execution_count": null,
      "metadata": {
        "id": "Fm313MQsJDMM",
        "outputId": "3ce1a1b9-f80c-4482-ecb0-a2f21bb8a2c2"
      },
      "outputs": [
        {
          "name": "stdout",
          "output_type": "stream",
          "text": [
            "MSE for Methane Prediction: 4.2746598e-10\n"
          ]
        }
      ],
      "source": [
        "X_train, X_test, y_train, y_test = train_test_split(X, y_methane, test_size=0.2, random_state=42)\n",
        "\n",
        "# Train the XGBoost model for methane prediction\n",
        "model_methane = xgb.XGBRegressor()\n",
        "model_methane.fit(X_train._get_numeric_data(), y_train)\n",
        "\n",
        "# Make predictions on the test set for methane\n",
        "y_pred_methane = model_methane.predict(X_test._get_numeric_data())\n",
        "\n",
        "# Evaluate the performance of the model for methane prediction\n",
        "mse_methane = mean_squared_error(y_test, y_pred_methane)\n",
        "print(\"MSE for Methane Prediction:\", mse_methane)"
      ]
    },
    {
      "cell_type": "code",
      "execution_count": null,
      "metadata": {
        "id": "kWInQY9cJDMO"
      },
      "outputs": [],
      "source": []
    }
  ],
  "metadata": {
    "kernelspec": {
      "display_name": "Python 3",
      "language": "python",
      "name": "python3"
    },
    "language_info": {
      "codemirror_mode": {
        "name": "ipython",
        "version": 3
      },
      "file_extension": ".py",
      "mimetype": "text/x-python",
      "name": "python",
      "nbconvert_exporter": "python",
      "pygments_lexer": "ipython3",
      "version": "3.7.4"
    },
    "colab": {
      "provenance": []
    }
  },
  "nbformat": 4,
  "nbformat_minor": 0
}